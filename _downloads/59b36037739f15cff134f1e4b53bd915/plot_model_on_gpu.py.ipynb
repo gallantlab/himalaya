{
  "cells": [
    {
      "cell_type": "code",
      "execution_count": null,
      "metadata": {
        "collapsed": false
      },
      "outputs": [],
      "source": [
        "%matplotlib inline"
      ]
    },
    {
      "cell_type": "markdown",
      "metadata": {},
      "source": [
        "\n# Fitting a model on GPU\n\nThis example demonstrates how to fit a model using GPU computations.\n\nHimalaya implements different computational backends to fit the models:\n\n- \"numpy\" (CPU) (default)\n- \"torch\" (CPU)\n- \"torch_cuda\" (GPU)\n- \"cupy\" (GPU)\n\nEach backend is only available if you installed the corresponding package with\nCUDA enabled. Check the ``pytorch``/``cupy`` documentation for installation\ninstructions.\n"
      ]
    },
    {
      "cell_type": "markdown",
      "metadata": {},
      "source": [
        "## Create a random dataset\n\n"
      ]
    },
    {
      "cell_type": "code",
      "execution_count": null,
      "metadata": {
        "collapsed": false
      },
      "outputs": [],
      "source": [
        "import numpy as np\nn_samples, n_features, n_targets = 10, 5, 4\nX = np.random.randn(n_samples, n_features)\nY = np.random.randn(n_samples, n_targets)"
      ]
    },
    {
      "cell_type": "markdown",
      "metadata": {},
      "source": [
        "## Change backend\nTo change the backend, you need to call the function\n``himalaya.backend.set_backend``. With the option ``on_error=\"warn\"``, the\nfunction does not raise an error if the new backend fails to be imported, and\nthe backend is kept unchanged.\n\n"
      ]
    },
    {
      "cell_type": "code",
      "execution_count": null,
      "metadata": {
        "collapsed": false
      },
      "outputs": [],
      "source": [
        "from himalaya.backend import set_backend\nbackend = set_backend(\"cupy\", on_error=\"warn\")"
      ]
    },
    {
      "cell_type": "markdown",
      "metadata": {},
      "source": [
        "## GPU backend\nTo fit a himalaya model on GPU, you don't need to move the input arrays to\nGPU, the method ``fit`` will do it for you. However, the float precision will\nnot be changed.\n\nTo make the most of GPU memory and computational speed, you might want to\nchange the float precision to float32.\n\n"
      ]
    },
    {
      "cell_type": "code",
      "execution_count": null,
      "metadata": {
        "collapsed": false
      },
      "outputs": [],
      "source": [
        "X = X.astype(\"float32\")\n\nfrom himalaya.kernel_ridge import KernelRidge\nmodel_him = KernelRidge(kernel=\"linear\", alpha=0.1)\nmodel_him.fit(X, Y)"
      ]
    },
    {
      "cell_type": "markdown",
      "metadata": {},
      "source": [
        "The results are stored in GPU memory, using an array object specific to the\nbackend used. To use the results in other libraries (for example matplotlib),\nyou can create a numpy array using the function ``backend.to_numpy``.\n\n"
      ]
    },
    {
      "cell_type": "code",
      "execution_count": null,
      "metadata": {
        "collapsed": false
      },
      "outputs": [],
      "source": [
        "scores = model_him.score(X, Y)\nprint(scores.__class__)\nscores = backend.to_numpy(scores)\nprint(scores.__class__)"
      ]
    }
  ],
  "metadata": {
    "kernelspec": {
      "display_name": "Python 3",
      "language": "python",
      "name": "python3"
    },
    "language_info": {
      "codemirror_mode": {
        "name": "ipython",
        "version": 3
      },
      "file_extension": ".py",
      "mimetype": "text/x-python",
      "name": "python",
      "nbconvert_exporter": "python",
      "pygments_lexer": "ipython3",
      "version": "3.7.3"
    }
  },
  "nbformat": 4,
  "nbformat_minor": 0
}