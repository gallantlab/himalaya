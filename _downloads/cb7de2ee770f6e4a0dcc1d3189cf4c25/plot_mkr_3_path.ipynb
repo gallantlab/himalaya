{
  "cells": [
    {
      "cell_type": "code",
      "execution_count": null,
      "metadata": {
        "collapsed": false
      },
      "outputs": [],
      "source": [
        "%matplotlib inline"
      ]
    },
    {
      "cell_type": "markdown",
      "metadata": {},
      "source": [
        "\n# Multiple-kernel ridge path between two kernels\nThis example demonstrates the path of all possible ratios of kernel weights\nbetween two kernels, in a multiple kernel ridge regression model. Over the path\nof ratios, the kernels are weighted by the kernel weights, then summed, and a\njoint model is fit on the obtained kernel. The explained variance on a test set\nis then computed, and decomposed over both kernels.\n"
      ]
    },
    {
      "cell_type": "code",
      "execution_count": null,
      "metadata": {
        "collapsed": false
      },
      "outputs": [],
      "source": [
        "from functools import partial\n\nimport numpy as np\nimport matplotlib.pyplot as plt\n\nfrom himalaya.backend import set_backend\nfrom himalaya.kernel_ridge import MultipleKernelRidgeCV\nfrom himalaya.kernel_ridge import Kernelizer\nfrom himalaya.kernel_ridge import ColumnKernelizer\nfrom himalaya.progress_bar import bar\nfrom himalaya.utils import generate_multikernel_dataset\n\nfrom sklearn.pipeline import make_pipeline\nfrom sklearn import set_config\nset_config(display='diagram')"
      ]
    },
    {
      "cell_type": "markdown",
      "metadata": {},
      "source": [
        "In this example, we use the ``cupy`` backend.\n\n"
      ]
    },
    {
      "cell_type": "code",
      "execution_count": null,
      "metadata": {
        "collapsed": false
      },
      "outputs": [],
      "source": [
        "backend = set_backend(\"cupy\", on_error=\"warn\")"
      ]
    },
    {
      "cell_type": "markdown",
      "metadata": {},
      "source": [
        "## Generate a random dataset\n- X_train : array of shape (n_samples_train, n_features)\n- X_test : array of shape (n_samples_test, n_features)\n- Y_train : array of shape (n_samples_train, n_targets)\n- Y_test : array of shape (n_samples_test, n_targets)\n\n"
      ]
    },
    {
      "cell_type": "code",
      "execution_count": null,
      "metadata": {
        "collapsed": false
      },
      "outputs": [],
      "source": [
        "n_targets = 50\nkernel_weights = np.tile(np.array([0.6, 0.4])[None], (n_targets, 1))\n\n(X_train, X_test, Y_train, Y_test,\n kernel_weights, n_features_list) = generate_multikernel_dataset(\n     n_kernels=2, n_targets=n_targets, n_samples_train=600,\n     n_samples_test=300, random_state=42, noise=0.3,\n     kernel_weights=kernel_weights)\n\nfeature_names = [f\"Feature space {ii}\" for ii in range(len(n_features_list))]"
      ]
    },
    {
      "cell_type": "markdown",
      "metadata": {},
      "source": [
        "Create a MultipleKernelRidgeCV model, see plot_mkr_sklearn_api.py for more\ndetails.\n\n"
      ]
    },
    {
      "cell_type": "code",
      "execution_count": null,
      "metadata": {
        "collapsed": false
      },
      "outputs": [],
      "source": [
        "# Find the start and end of each feature space X in Xs.\nstart_and_end = np.concatenate([[0], np.cumsum(n_features_list)])\nslices = [\n    slice(start, end)\n    for start, end in zip(start_and_end[:-1], start_and_end[1:])\n]\n\n# Create a different ``Kernelizer`` for each feature space.\nkernelizers = [(name, Kernelizer(), slice_)\n               for name, slice_ in zip(feature_names, slices)]\ncolumn_kernelizer = ColumnKernelizer(kernelizers)\n\n# Create a MultipleKernelRidgeCV model.\nsolver_params = dict(alphas=np.logspace(-5, 5, 41), progress_bar=False)\nmodel = MultipleKernelRidgeCV(kernels=\"precomputed\", solver=\"random_search\",\n                              solver_params=solver_params)\npipe = make_pipeline(column_kernelizer, model)\npipe"
      ]
    },
    {
      "cell_type": "markdown",
      "metadata": {},
      "source": [
        "Then, we manually perfom a hyperparameter grid search for the kernel weights.\n\n"
      ]
    },
    {
      "cell_type": "code",
      "execution_count": null,
      "metadata": {
        "collapsed": false
      },
      "outputs": [],
      "source": [
        "# Make the score method use `split=True` by default.\nmodel.score = partial(model.score, split=True)\n\n# Define the hyperparameter grid search.\nratios = np.logspace(-4, 4, 41)\ncandidates = np.array([1 - ratios / (1 + ratios), ratios / (1 + ratios)]).T\n\n# Loop over hyperparameter candidates\nsplit_r2_scores = []\nfor candidate in bar(candidates, \"Hyperparameter candidates\"):\n    # test one hyperparameter candidate at a time\n    pipe[-1].solver_params[\"n_iter\"] = candidate[None]\n    pipe.fit(X_train, Y_train)\n\n    # split the R2 score between both kernels\n    scores = pipe.score(X_test, Y_test)\n    split_r2_scores.append(backend.to_numpy(scores))\n\n# average scores over targets for plotting\nsplit_r2_scores_avg = np.array(split_r2_scores).mean(axis=2)"
      ]
    },
    {
      "cell_type": "markdown",
      "metadata": {},
      "source": [
        "Plot the variance decomposition for all the hyperparameter ratios.\n\nFor a ratio of 1e-3, feature space 0 is almost not used. For a ratio of 1e3,\nfeature space 1 is almost not used. The best ratio is here around 1, because\nthe feature spaces are used with similar scales in the simulated dataset.\n\n"
      ]
    },
    {
      "cell_type": "code",
      "execution_count": null,
      "metadata": {
        "collapsed": false
      },
      "outputs": [],
      "source": [
        "fig, ax = plt.subplots(figsize=(5, 3))\naccumulator = np.zeros_like(ratios)\nfor split in split_r2_scores_avg.T:\n    ax.fill_between(ratios, accumulator, accumulator + split, alpha=0.7)\n    accumulator += split\n\nax.set(xscale='log')\nax.set(xlabel=r\"Ratio of kernel weight ($\\gamma_A / \\gamma_B$)\")\nax.set(ylabel=r\"$R^2$ score (test set)\")\nax.set(title=r\"$R^2$ score decomposition\")\nax.legend(feature_names, loc=\"upper left\")\nax.grid()\nfig.tight_layout()\nplt.show()"
      ]
    }
  ],
  "metadata": {
    "kernelspec": {
      "display_name": "Python 3",
      "language": "python",
      "name": "python3"
    },
    "language_info": {
      "codemirror_mode": {
        "name": "ipython",
        "version": 3
      },
      "file_extension": ".py",
      "mimetype": "text/x-python",
      "name": "python",
      "nbconvert_exporter": "python",
      "pygments_lexer": "ipython3",
      "version": "3.7.3"
    }
  },
  "nbformat": 4,
  "nbformat_minor": 0
}