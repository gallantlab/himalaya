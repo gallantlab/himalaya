{
  "cells": [
    {
      "cell_type": "code",
      "execution_count": null,
      "metadata": {
        "collapsed": false
      },
      "outputs": [],
      "source": [
        "%matplotlib inline"
      ]
    },
    {
      "cell_type": "markdown",
      "metadata": {},
      "source": [
        "\n# Kernel ridge\n\nThis example demonstrates how to solve kernel ridge regression, using\nhimalaya's estimator ``KernelRidge`` compatible with scikit-learn's API.\n"
      ]
    },
    {
      "cell_type": "markdown",
      "metadata": {},
      "source": [
        "## Create a random dataset\n\n"
      ]
    },
    {
      "cell_type": "code",
      "execution_count": null,
      "metadata": {
        "collapsed": false
      },
      "outputs": [],
      "source": [
        "import numpy as np\nn_samples, n_features, n_targets = 10, 5, 4\nX = np.random.randn(n_samples, n_features)\nY = np.random.randn(n_samples, n_targets)"
      ]
    },
    {
      "cell_type": "markdown",
      "metadata": {},
      "source": [
        "## Scikit-learn API\nHimalaya implements a ``KernelRidge`` estimator, similar to the corresponding\nscikit-learn estimator, with similar parameters and methods.\n\n"
      ]
    },
    {
      "cell_type": "code",
      "execution_count": null,
      "metadata": {
        "collapsed": false
      },
      "outputs": [],
      "source": [
        "import sklearn.kernel_ridge\nimport himalaya.kernel_ridge\n\n# Fit a scikit-learn model\nmodel_skl = sklearn.kernel_ridge.KernelRidge(kernel=\"linear\", alpha=0.1)\nmodel_skl.fit(X, Y)\n\n# Fit a himalaya model\nmodel_him = himalaya.kernel_ridge.KernelRidge(kernel=\"linear\", alpha=0.1)\nmodel_him.fit(X, Y)\n\nY_pred_skl = model_skl.predict(X)\nY_pred_him = model_him.predict(X)\n\n# The predictions are virtually identical.\nprint(np.max(np.abs(Y_pred_skl - Y_pred_him)))"
      ]
    },
    {
      "cell_type": "markdown",
      "metadata": {},
      "source": [
        "## Small API difference\nSince himalaya focuses on fitting multiple targets, the ``score`` method\nreturns the score on each target separately, while scikit-learn returns the\naverage score over targets.\n\n"
      ]
    },
    {
      "cell_type": "code",
      "execution_count": null,
      "metadata": {
        "collapsed": false
      },
      "outputs": [],
      "source": [
        "print(model_skl.score(X, Y))\nprint(model_him.score(X, Y))\nprint(model_him.score(X, Y).mean())"
      ]
    }
  ],
  "metadata": {
    "kernelspec": {
      "display_name": "Python 3",
      "language": "python",
      "name": "python3"
    },
    "language_info": {
      "codemirror_mode": {
        "name": "ipython",
        "version": 3
      },
      "file_extension": ".py",
      "mimetype": "text/x-python",
      "name": "python",
      "nbconvert_exporter": "python",
      "pygments_lexer": "ipython3",
      "version": "3.9.10"
    }
  },
  "nbformat": 4,
  "nbformat_minor": 0
}