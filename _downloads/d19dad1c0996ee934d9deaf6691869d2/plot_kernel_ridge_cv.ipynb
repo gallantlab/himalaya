{
  "cells": [
    {
      "cell_type": "code",
      "execution_count": null,
      "metadata": {
        "collapsed": false
      },
      "outputs": [],
      "source": [
        "%matplotlib inline"
      ]
    },
    {
      "cell_type": "markdown",
      "metadata": {},
      "source": [
        "\n# Kernel ridge with cross-validation\n\nThis example demonstrates how to solve kernel ridge regression with a\ncross-validation of the regularization parameter, using himalaya's estimator\n``KernelRidgeCV``.\n"
      ]
    },
    {
      "cell_type": "markdown",
      "metadata": {},
      "source": [
        "## Create a random dataset\n\n"
      ]
    },
    {
      "cell_type": "code",
      "execution_count": null,
      "metadata": {
        "collapsed": false
      },
      "outputs": [],
      "source": [
        "import numpy as np\nnp.random.seed(0)\nn_samples, n_features, n_targets = 10, 5, 4\nX = np.random.randn(n_samples, n_features)\nY = np.random.randn(n_samples, n_targets)"
      ]
    },
    {
      "cell_type": "markdown",
      "metadata": {},
      "source": [
        "## Limit of GridSearchCV\nIn scikit-learn, one can use ``GridSearchCV`` to optimize hyperparameters\nover cross-validation.\n\n"
      ]
    },
    {
      "cell_type": "code",
      "execution_count": null,
      "metadata": {
        "collapsed": false
      },
      "outputs": [],
      "source": [
        "import sklearn.model_selection\nimport sklearn.kernel_ridge\n\nestimator = sklearn.kernel_ridge.KernelRidge(kernel=\"linear\")\ngscv = sklearn.model_selection.GridSearchCV(\n    estimator=estimator,\n    param_grid=dict(alpha=np.logspace(-2, 2, 5)),\n)\ngscv.fit(X, Y)"
      ]
    },
    {
      "cell_type": "markdown",
      "metadata": {},
      "source": [
        "However, since ``GridSearchCV`` optimizes the average score over all targets,\nit returns a single value for alpha.\n\n"
      ]
    },
    {
      "cell_type": "code",
      "execution_count": null,
      "metadata": {
        "collapsed": false
      },
      "outputs": [],
      "source": [
        "gscv.best_params_"
      ]
    },
    {
      "cell_type": "markdown",
      "metadata": {},
      "source": [
        "## KernelRidgeCV\nTo optimize each target independently, himalaya implements ``KernelRidgeCV``,\nwhich supports any cross-validation scheme compatible with scikit-learn.\n\n"
      ]
    },
    {
      "cell_type": "code",
      "execution_count": null,
      "metadata": {
        "collapsed": false
      },
      "outputs": [],
      "source": [
        "import himalaya.kernel_ridge\n\nmodel = himalaya.kernel_ridge.KernelRidgeCV(kernel=\"linear\",\n                                            alphas=np.logspace(-2, 2, 5))\nmodel.fit(X, Y)"
      ]
    },
    {
      "cell_type": "markdown",
      "metadata": {},
      "source": [
        "KernelRidgeCV returns a separate best alpha per target.\n\n"
      ]
    },
    {
      "cell_type": "code",
      "execution_count": null,
      "metadata": {
        "collapsed": false
      },
      "outputs": [],
      "source": [
        "model.best_alphas_"
      ]
    }
  ],
  "metadata": {
    "kernelspec": {
      "display_name": "Python 3",
      "language": "python",
      "name": "python3"
    },
    "language_info": {
      "codemirror_mode": {
        "name": "ipython",
        "version": 3
      },
      "file_extension": ".py",
      "mimetype": "text/x-python",
      "name": "python",
      "nbconvert_exporter": "python",
      "pygments_lexer": "ipython3",
      "version": "3.7.3"
    }
  },
  "nbformat": 4,
  "nbformat_minor": 0
}